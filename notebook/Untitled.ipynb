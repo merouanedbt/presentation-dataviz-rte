{
 "cells": [
  {
   "cell_type": "markdown",
   "id": "6d727247-aca8-4615-a3a3-74ba34d1c9b2",
   "metadata": {},
   "source": [
    "# 3. Mix énergétique en France\n",
    "⇨ Quelle situation, quelle évolution ?"
   ]
  },
  {
   "cell_type": "code",
   "execution_count": null,
   "id": "479aabb1-8e0f-4e03-8847-c2b7569091dd",
   "metadata": {},
   "outputs": [],
   "source": []
  }
 ],
 "metadata": {
  "kernelspec": {
   "display_name": "Python 3 (ipykernel)",
   "language": "python",
   "name": "python3"
  },
  "language_info": {
   "codemirror_mode": {
    "name": "ipython",
    "version": 3
   },
   "file_extension": ".py",
   "mimetype": "text/x-python",
   "name": "python",
   "nbconvert_exporter": "python",
   "pygments_lexer": "ipython3",
   "version": "3.12.2"
  }
 },
 "nbformat": 4,
 "nbformat_minor": 5
}
