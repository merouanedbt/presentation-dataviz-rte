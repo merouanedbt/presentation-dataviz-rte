


import pandas as pd
import numpy as np
import matplotlib
import plotly.express as px
import matplotlib.pyplot as plt


df =  pd.read_csv('../data/data flo/eco2mix-national-cons-def.csv', sep=';', low_memory=False)

#df.info()
#df.sample(10)


#Enléve les colonnes inutiles du df
df.drop(['Périmètre','Nature','Heure','Date et Heure','Ech. comm. Angleterre (MW)','Ech. comm. Espagne (MW)', 'Ech. comm. Suisse (MW)', 'Ech. comm. Italie (MW)','Ech. comm. Allemagne-Belgique (MW)'],axis=1, inplace=True)
df.drop(['Fioul - TAC (MW)', 'Fioul - Cogénération (MW)', 'Fioul - Autres (MW)', 'Gaz - TAC (MW)', 'Gaz - Cogénération (MW)', 'Gaz - CCG (MW)', 'Gaz - Autres (MW)', "Hydraulique - Fil de l'eau + éclusée (MW)",'Hydraulique - Lacs (MW)', 'Hydraulique - STEP turbinage (MW)', 'Bioénergies - Déchets (MW)', 'Bioénergies - Biomasse (MW)', 'Bioénergies - Biogaz (MW)'],axis=1, inplace=True)



#Nettoyage des NaN
df = df.dropna()
#Regroupement des lignes par date
df = df.groupby('Date').sum()

df.sample(5)


df.to_pickle('../data/data flo/df_clean.pkl')
df1 = pd.read_pickle('../data/data flo/df_clean.pkl')


# Regroupement du df pars années
df_annee = df1.groupby(df1.index.year).sum()


df_annee.to_pickle('../data/data flo/df_clean_par_ans.pkl')
df2 = pd.read_pickle('../data/data flo/df_clean_par_ans.pkl')





# Somme par source d'énergie (sur les colonnes)
serie = df2.drop(columns='Consommation (MW)', errors='ignore').sum(numeric_only=True)

# Création du pie chart
fig = px.pie(values=serie.values, names=serie.index)

fig.show()






serie2 = df2.drop(columns='Consommation (MW)', errors='ignore')
fig = px.line(serie2)
fig.show()








fig = px.scatter(serie2, x="", y="lifeExp",
	         size="pop", color="continent",
                 hover_name="country", log_x=True, size_max=60)
fig.show()



